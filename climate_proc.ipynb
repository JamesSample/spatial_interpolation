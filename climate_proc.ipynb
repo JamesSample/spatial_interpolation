{
 "cells": [
  {
   "cell_type": "code",
   "execution_count": 1,
   "metadata": {
    "collapsed": true
   },
   "outputs": [],
   "source": [
    "%matplotlib inline\n",
    "import pandas as pd\n",
    "import matplotlib.pyplot as plt\n",
    "import xarray as xr\n",
    "import cartopy.crs as ccrs\n",
    "import mpld3\n",
    "import seaborn as sn\n",
    "import numpy as np\n",
    "import os\n",
    "from netCDF4 import Dataset\n",
    "from mpl_toolkits.basemap import Basemap\n",
    "sn.set_context('notebook')"
   ]
  },
  {
   "cell_type": "code",
   "execution_count": 2,
   "metadata": {
    "collapsed": false
   },
   "outputs": [
    {
     "data": {
      "text/plain": [
       "<xarray.Dataset>\n",
       "Dimensions:     (bnds: 2, lat: 90, lon: 144, time: 3650)\n",
       "Coordinates:\n",
       "  * lat         (lat) float64 -89.49 -87.98 -85.96 -83.93 -81.91 -79.89 ...\n",
       "  * lon         (lon) float64 1.25 3.75 6.25 8.75 11.25 13.75 16.25 18.75 ...\n",
       "  * bnds        (bnds) float64 1.0 2.0\n",
       "  * time        (time) datetime64[ns] 2006-01-01T12:00:00 ...\n",
       "    height      float64 2.0\n",
       "Data variables:\n",
       "    average_DT  (time) timedelta64[ns] 1 days 1 days 1 days 1 days 1 days ...\n",
       "    average_T1  (time) datetime64[ns] 2006-01-01 2006-01-02 2006-01-03 ...\n",
       "    average_T2  (time) datetime64[ns] 2006-01-02 2006-01-03 2006-01-04 ...\n",
       "    pr          (time, lat, lon) float64 1.41e-06 1.41e-06 1.41e-06 1.41e-06 ...\n",
       "    time_bnds   (time, bnds) datetime64[ns] 2006-01-01 2006-01-02 2006-01-02 ...\n",
       "    lat_bnds    (time, lat, bnds) float64 -90.0 -88.99 -88.99 -86.97 -86.97 ...\n",
       "    lon_bnds    (time, lon, bnds) float64 0.0 2.5 2.5 5.0 5.0 7.5 7.5 10.0 ...\n",
       "    tas         (time, lat, lon) float64 249.8 249.8 249.8 249.8 249.8 249.8 ..."
      ]
     },
     "execution_count": 2,
     "metadata": {},
     "output_type": "execute_result"
    }
   ],
   "source": [
    "# Read all the netCDF files and combine into a single dataset\n",
    "nc_path = r'C:\\Data\\James_Work\\Staff\\Leah_JB\\ECCO-DomQua\\Climate_Data\\CMIP5\\*.nc'\n",
    "ds = xr.open_mfdataset(nc_path)\n",
    "\n",
    "ds"
   ]
  },
  {
   "cell_type": "markdown",
   "metadata": {},
   "source": [
    "It looks as though the key variables of interest are precipitation (`pr`) and temperature (`tas`). Get more details below."
   ]
  },
  {
   "cell_type": "code",
   "execution_count": 3,
   "metadata": {
    "collapsed": false
   },
   "outputs": [
    {
     "data": {
      "text/plain": [
       "<xarray.DataArray 'pr' (time: 3650, lat: 90, lon: 144)>\n",
       "dask.array<concate..., shape=(3650, 90, 144), dtype=float64, chunksize=(1825, 90, 144)>\n",
       "Coordinates:\n",
       "  * lat      (lat) float64 -89.49 -87.98 -85.96 -83.93 -81.91 -79.89 -77.87 ...\n",
       "  * lon      (lon) float64 1.25 3.75 6.25 8.75 11.25 13.75 16.25 18.75 21.25 ...\n",
       "  * time     (time) datetime64[ns] 2006-01-01T12:00:00 2006-01-02T12:00:00 ...\n",
       "    height   float64 2.0\n",
       "Attributes:\n",
       "    long_name: Precipitation\n",
       "    units: kg m-2 s-1\n",
       "    cell_methods: time: mean\n",
       "    interp_method: conserve_order1\n",
       "    standard_name: precipitation_flux\n",
       "    original_units: kg/m2/s\n",
       "    original_name: precip\n",
       "    cell_measures: area: areacella\n",
       "    associated_files: baseURL: http://cmip-pcmdi.llnl.gov/CMIP5/dataLocation areacella: areacella_fx_GFDL-ESM2M_rcp45_r0i0p0.nc"
      ]
     },
     "execution_count": 3,
     "metadata": {},
     "output_type": "execute_result"
    }
   ],
   "source": [
    "# Properties for pptn\n",
    "ds['pr']"
   ]
  },
  {
   "cell_type": "markdown",
   "metadata": {},
   "source": [
    "So, the pptn data is actually pptn flux in kg/m2/s. 1 kg/m2 is 1 mm of rainfall, so this is basically mm/s. We want mm/day, so in the code below we'll multiply by $60 \\times 60 \\times 24$."
   ]
  },
  {
   "cell_type": "code",
   "execution_count": 4,
   "metadata": {
    "collapsed": false
   },
   "outputs": [
    {
     "data": {
      "text/plain": [
       "<xarray.DataArray 'tas' (time: 3650, lat: 90, lon: 144)>\n",
       "dask.array<concate..., shape=(3650, 90, 144), dtype=float64, chunksize=(1825, 90, 144)>\n",
       "Coordinates:\n",
       "  * lat      (lat) float64 -89.49 -87.98 -85.96 -83.93 -81.91 -79.89 -77.87 ...\n",
       "  * lon      (lon) float64 1.25 3.75 6.25 8.75 11.25 13.75 16.25 18.75 21.25 ...\n",
       "  * time     (time) datetime64[ns] 2006-01-01T12:00:00 2006-01-02T12:00:00 ...\n",
       "    height   float64 2.0\n",
       "Attributes:\n",
       "    long_name: Near-Surface Air Temperature\n",
       "    units: K\n",
       "    valid_range: [ 100.  400.]\n",
       "    cell_methods: time: mean\n",
       "    standard_name: air_temperature\n",
       "    original_units: deg_k\n",
       "    original_name: t_ref\n",
       "    cell_measures: area: areacella\n",
       "    associated_files: baseURL: http://cmip-pcmdi.llnl.gov/CMIP5/dataLocation areacella: areacella_fx_GFDL-ESM2M_rcp45_r0i0p0.nc"
      ]
     },
     "execution_count": 4,
     "metadata": {},
     "output_type": "execute_result"
    }
   ],
   "source": [
    "# Properties for temp\n",
    "ds['tas']"
   ]
  },
  {
   "cell_type": "markdown",
   "metadata": {},
   "source": [
    "Note that temperature is in K."
   ]
  },
  {
   "cell_type": "code",
   "execution_count": 5,
   "metadata": {
    "collapsed": false
   },
   "outputs": [
    {
     "data": {
      "text/plain": [
       "<xarray.DataArray 'tas' (time: 10, lat: 90, lon: 144)>\n",
       "dask.array<transpo..., shape=(10, 90, 144), dtype=float64, chunksize=(1, 90, 144)>\n",
       "Coordinates:\n",
       "  * lat      (lat) float64 -89.49 -87.98 -85.96 -83.93 -81.91 -79.89 -77.87 ...\n",
       "  * lon      (lon) float64 1.25 3.75 6.25 8.75 11.25 13.75 16.25 18.75 21.25 ...\n",
       "    height   float64 2.0\n",
       "  * time     (time) datetime64[ns] 2006-12-31 2007-12-31 2008-12-31 ..."
      ]
     },
     "execution_count": 5,
     "metadata": {},
     "output_type": "execute_result"
    }
   ],
   "source": [
    "# Calculate mean annual temperature\n",
    "ds_t = ds['tas'].resample(freq='A',\n",
    "                          dim='time', \n",
    "                          how='mean')\n",
    "ds_t"
   ]
  },
  {
   "cell_type": "code",
   "execution_count": 6,
   "metadata": {
    "collapsed": false
   },
   "outputs": [
    {
     "data": {
      "text/plain": [
       "<xarray.DataArray 'pr' (time: 41, lat: 90, lon: 144)>\n",
       "dask.array<transpo..., shape=(41, 90, 144), dtype=float64, chunksize=(1, 90, 144)>\n",
       "Coordinates:\n",
       "  * lat      (lat) float64 -89.49 -87.98 -85.96 -83.93 -81.91 -79.89 -77.87 ...\n",
       "  * lon      (lon) float64 1.25 3.75 6.25 8.75 11.25 13.75 16.25 18.75 21.25 ...\n",
       "    height   float64 2.0\n",
       "  * time     (time) datetime64[ns] 2006-02-28 2006-05-31 2006-08-31 ..."
      ]
     },
     "execution_count": 6,
     "metadata": {},
     "output_type": "execute_result"
    }
   ],
   "source": [
    "# Convert units from kg/m2/s to mm/day\n",
    "ds_p = ds['pr']*60*60*24\n",
    "\n",
    "# Calculate quarterly total pptn\n",
    "ds_p = ds_p.resample(freq='Q-FEB',\n",
    "                     dim='time', \n",
    "                     how='sum')\n",
    "ds_p"
   ]
  },
  {
   "cell_type": "markdown",
   "metadata": {},
   "source": [
    "xarray has a \"season\" frequency, which can be used now that we've resampled to quarterly."
   ]
  },
  {
   "cell_type": "code",
   "execution_count": 7,
   "metadata": {
    "collapsed": false
   },
   "outputs": [
    {
     "data": {
      "text/plain": [
       "<xarray.DataArray 'season' (time: 41)>\n",
       "array(['DJF', 'MAM', 'JJA', 'SON', 'DJF', 'MAM', 'JJA', 'SON', 'DJF', 'MAM',\n",
       "       'JJA', 'SON', 'DJF', 'MAM', 'JJA', 'SON', 'DJF', 'MAM', 'JJA', 'SON',\n",
       "       'DJF', 'MAM', 'JJA', 'SON', 'DJF', 'MAM', 'JJA', 'SON', 'DJF', 'MAM',\n",
       "       'JJA', 'SON', 'DJF', 'MAM', 'JJA', 'SON', 'DJF', 'MAM', 'JJA', 'SON',\n",
       "       'DJF'], \n",
       "      dtype='|S3')\n",
       "Coordinates:\n",
       "    height   float64 2.0\n",
       "  * time     (time) datetime64[ns] 2006-02-28 2006-05-31 2006-08-31 ..."
      ]
     },
     "execution_count": 7,
     "metadata": {},
     "output_type": "execute_result"
    }
   ],
   "source": [
    "ds_p['time.season']"
   ]
  },
  {
   "cell_type": "code",
   "execution_count": 8,
   "metadata": {
    "collapsed": false
   },
   "outputs": [
    {
     "data": {
      "text/plain": [
       "<xarray.DataArray 'pr' (time: 10, lat: 90, lon: 144)>\n",
       "dask.array<transpo..., shape=(10, 90, 144), dtype=float64, chunksize=(1, 90, 144)>\n",
       "Coordinates:\n",
       "  * lat      (lat) float64 -89.49 -87.98 -85.96 -83.93 -81.91 -79.89 -77.87 ...\n",
       "  * lon      (lon) float64 1.25 3.75 6.25 8.75 11.25 13.75 16.25 18.75 21.25 ...\n",
       "    height   float64 2.0\n",
       "  * time     (time) datetime64[ns] 2006-12-31 2007-12-31 2008-12-31 ..."
      ]
     },
     "execution_count": 8,
     "metadata": {},
     "output_type": "execute_result"
    }
   ],
   "source": [
    "# Select just the grids where season is JJA\n",
    "ds_p = ds_p[ds_p['time.season']=='JJA']\n",
    "\n",
    "# Resample this to annual (as we no longer need the month info)\n",
    "# NB. This will still give just the summer totals in each year\n",
    "ds_p = ds_p.resample(freq='A',\n",
    "                     dim='time', \n",
    "                     how='mean')\n",
    "\n",
    "ds_p"
   ]
  },
  {
   "cell_type": "markdown",
   "metadata": {},
   "source": [
    "We now have a temperature dataset and a precipitation dataset, both with compatible date-time indexes with annual frequency. We can therefore combine these into a single dataset."
   ]
  },
  {
   "cell_type": "code",
   "execution_count": 10,
   "metadata": {
    "collapsed": false
   },
   "outputs": [
    {
     "data": {
      "text/plain": [
       "<xarray.Dataset>\n",
       "Dimensions:  (lat: 90, lon: 144, time: 10)\n",
       "Coordinates:\n",
       "  * lat      (lat) float64 -89.49 -87.98 -85.96 -83.93 -81.91 -79.89 -77.87 ...\n",
       "  * lon      (lon) float64 1.25 3.75 6.25 8.75 11.25 13.75 16.25 18.75 21.25 ...\n",
       "    height   float64 2.0\n",
       "  * time     (time) datetime64[ns] 2006-12-31 2007-12-31 2008-12-31 ...\n",
       "Data variables:\n",
       "    tas      (time, lat, lon) float64 229.8 229.8 229.8 229.8 229.8 229.8 ...\n",
       "    pr       (time, lat, lon) float64 16.55 16.55 16.55 16.56 16.56 16.56 ..."
      ]
     },
     "execution_count": 10,
     "metadata": {},
     "output_type": "execute_result"
    }
   ],
   "source": [
    "# Combine temp and pptn\n",
    "ds2 = xr.merge([ds_t, ds_p])\n",
    "ds2"
   ]
  },
  {
   "cell_type": "markdown",
   "metadata": {},
   "source": [
    "This looks reasonable: we have two variables (`tas` and `pr`); the spatial dimensions have been preserved (`lat=90` and `lon=144`); and there are 10 time steps in total (because we've combined two 5-year datasets and calculated one temp and pptn value for each year).\n",
    "\n",
    "Let's try a quick plot for the area around Oslo (lat=60, lon=11)."
   ]
  },
  {
   "cell_type": "code",
   "execution_count": 22,
   "metadata": {
    "collapsed": false
   },
   "outputs": [
    {
     "data": {
      "text/html": [
       "<div>\n",
       "<table border=\"1\" class=\"dataframe\">\n",
       "  <thead>\n",
       "    <tr style=\"text-align: right;\">\n",
       "      <th></th>\n",
       "      <th></th>\n",
       "      <th>lat</th>\n",
       "      <th>lon</th>\n",
       "      <th>height</th>\n",
       "      <th>tas</th>\n",
       "      <th>pr</th>\n",
       "    </tr>\n",
       "    <tr>\n",
       "      <th>points</th>\n",
       "      <th>time</th>\n",
       "      <th></th>\n",
       "      <th></th>\n",
       "      <th></th>\n",
       "      <th></th>\n",
       "      <th></th>\n",
       "    </tr>\n",
       "  </thead>\n",
       "  <tbody>\n",
       "    <tr>\n",
       "      <th rowspan=\"10\" valign=\"top\">0</th>\n",
       "      <th>2006-12-31</th>\n",
       "      <td>59.662921</td>\n",
       "      <td>11.25</td>\n",
       "      <td>2.0</td>\n",
       "      <td>276.156727</td>\n",
       "      <td>473.448230</td>\n",
       "    </tr>\n",
       "    <tr>\n",
       "      <th>2007-12-31</th>\n",
       "      <td>59.662921</td>\n",
       "      <td>11.25</td>\n",
       "      <td>2.0</td>\n",
       "      <td>277.450023</td>\n",
       "      <td>260.276183</td>\n",
       "    </tr>\n",
       "    <tr>\n",
       "      <th>2008-12-31</th>\n",
       "      <td>59.662921</td>\n",
       "      <td>11.25</td>\n",
       "      <td>2.0</td>\n",
       "      <td>276.377525</td>\n",
       "      <td>284.450227</td>\n",
       "    </tr>\n",
       "    <tr>\n",
       "      <th>2009-12-31</th>\n",
       "      <td>59.662921</td>\n",
       "      <td>11.25</td>\n",
       "      <td>2.0</td>\n",
       "      <td>276.345153</td>\n",
       "      <td>298.805497</td>\n",
       "    </tr>\n",
       "    <tr>\n",
       "      <th>2010-12-31</th>\n",
       "      <td>59.662921</td>\n",
       "      <td>11.25</td>\n",
       "      <td>2.0</td>\n",
       "      <td>274.743372</td>\n",
       "      <td>240.582271</td>\n",
       "    </tr>\n",
       "    <tr>\n",
       "      <th>2011-12-31</th>\n",
       "      <td>59.662921</td>\n",
       "      <td>11.25</td>\n",
       "      <td>2.0</td>\n",
       "      <td>276.308765</td>\n",
       "      <td>315.473556</td>\n",
       "    </tr>\n",
       "    <tr>\n",
       "      <th>2012-12-31</th>\n",
       "      <td>59.662921</td>\n",
       "      <td>11.25</td>\n",
       "      <td>2.0</td>\n",
       "      <td>277.060123</td>\n",
       "      <td>253.032379</td>\n",
       "    </tr>\n",
       "    <tr>\n",
       "      <th>2013-12-31</th>\n",
       "      <td>59.662921</td>\n",
       "      <td>11.25</td>\n",
       "      <td>2.0</td>\n",
       "      <td>276.854030</td>\n",
       "      <td>288.547745</td>\n",
       "    </tr>\n",
       "    <tr>\n",
       "      <th>2014-12-31</th>\n",
       "      <td>59.662921</td>\n",
       "      <td>11.25</td>\n",
       "      <td>2.0</td>\n",
       "      <td>276.142357</td>\n",
       "      <td>242.157470</td>\n",
       "    </tr>\n",
       "    <tr>\n",
       "      <th>2015-12-31</th>\n",
       "      <td>59.662921</td>\n",
       "      <td>11.25</td>\n",
       "      <td>2.0</td>\n",
       "      <td>275.121257</td>\n",
       "      <td>320.800931</td>\n",
       "    </tr>\n",
       "  </tbody>\n",
       "</table>\n",
       "</div>"
      ],
      "text/plain": [
       "                         lat    lon  height         tas          pr\n",
       "points time                                                        \n",
       "0      2006-12-31  59.662921  11.25     2.0  276.156727  473.448230\n",
       "       2007-12-31  59.662921  11.25     2.0  277.450023  260.276183\n",
       "       2008-12-31  59.662921  11.25     2.0  276.377525  284.450227\n",
       "       2009-12-31  59.662921  11.25     2.0  276.345153  298.805497\n",
       "       2010-12-31  59.662921  11.25     2.0  274.743372  240.582271\n",
       "       2011-12-31  59.662921  11.25     2.0  276.308765  315.473556\n",
       "       2012-12-31  59.662921  11.25     2.0  277.060123  253.032379\n",
       "       2013-12-31  59.662921  11.25     2.0  276.854030  288.547745\n",
       "       2014-12-31  59.662921  11.25     2.0  276.142357  242.157470\n",
       "       2015-12-31  59.662921  11.25     2.0  275.121257  320.800931"
      ]
     },
     "execution_count": 22,
     "metadata": {},
     "output_type": "execute_result"
    }
   ],
   "source": [
    "ds3 = ds2.sel_points(lon=[11], lat=[60],\n",
    "                     method='nearest')\n",
    "df = ds3.to_dataframe()\n",
    "\n",
    "df"
   ]
  },
  {
   "cell_type": "code",
   "execution_count": 27,
   "metadata": {
    "collapsed": false
   },
   "outputs": [
    {
     "data": {
      "text/plain": [
       "array([<matplotlib.axes._subplots.AxesSubplot object at 0x000000000F7F0D30>,\n",
       "       <matplotlib.axes._subplots.AxesSubplot object at 0x000000000F8D05C0>], dtype=object)"
      ]
     },
     "execution_count": 27,
     "metadata": {},
     "output_type": "execute_result"
    },
    {
     "data": {
      "image/png": "[encoded data removed]",
      "text/plain": [
       "<matplotlib.figure.Figure at 0xf77ce80>"
      ]
     },
     "metadata": {},
     "output_type": "display_data"
    }
   ],
   "source": [
    "df = df.reset_index()[['time', 'tas', 'pr']]\n",
    "df.index = df['time']\n",
    "del df['time']\n",
    "df.plot(subplots=True)"
   ]
  },
  {
   "cell_type": "markdown",
   "metadata": {},
   "source": [
    "**Check these values look reasonable**."
   ]
  }
 ],
 "metadata": {
  "kernelspec": {
   "display_name": "Python 2",
   "language": "python",
   "name": "python2"
  },
  "language_info": {
   "codemirror_mode": {
    "name": "ipython",
    "version": 2
   },
   "file_extension": ".py",
   "mimetype": "text/x-python",
   "name": "python",
   "nbconvert_exporter": "python",
   "pygments_lexer": "ipython2",
   "version": "2.7.13"
  }
 },
 "nbformat": 4,
 "nbformat_minor": 2
}
